{
 "cells": [
  {
   "metadata": {
    "ExecuteTime": {
     "end_time": "2024-11-11T04:32:03.317634Z",
     "start_time": "2024-11-11T04:32:03.133154Z"
    }
   },
   "cell_type": "code",
   "source": [
    "import pandas as pd\n",
    "from scipy.io import arff"
   ],
   "id": "fa7b0401de3560ce",
   "outputs": [],
   "execution_count": 18
  },
  {
   "metadata": {},
   "cell_type": "markdown",
   "source": "## 1. Data Loading and Exploration",
   "id": "9d923a11f6fcfbe7"
  },
  {
   "metadata": {
    "ExecuteTime": {
     "end_time": "2024-11-11T04:32:42.403297Z",
     "start_time": "2024-11-11T04:32:42.370742Z"
    }
   },
   "cell_type": "code",
   "source": [
    "data, meta = arff.loadarff('data/php9HX2u8.arff')\n",
    "df = pd.DataFrame(data)"
   ],
   "id": "497acd29d86c059e",
   "outputs": [],
   "execution_count": 22
  },
  {
   "metadata": {},
   "cell_type": "code",
   "outputs": [],
   "execution_count": null,
   "source": "",
   "id": "806a8c9887762ee5"
  },
  {
   "metadata": {},
   "cell_type": "markdown",
   "source": "",
   "id": "b051b5414ef53ba5"
  },
  {
   "metadata": {},
   "cell_type": "markdown",
   "source": "",
   "id": "c7840447aeb43bf3"
  }
 ],
 "metadata": {
  "kernelspec": {
   "display_name": "Python 3 (ipykernel)",
   "language": "python",
   "name": "python3"
  },
  "language_info": {
   "codemirror_mode": {
    "name": "ipython",
    "version": 3
   },
   "file_extension": ".py",
   "mimetype": "text/x-python",
   "name": "python",
   "nbconvert_exporter": "python",
   "pygments_lexer": "ipython3",
   "version": "3.10.8"
  }
 },
 "nbformat": 4,
 "nbformat_minor": 5
}
